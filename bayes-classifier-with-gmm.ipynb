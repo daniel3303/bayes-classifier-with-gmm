{
 "cells": [
  {
   "cell_type": "markdown",
   "metadata": {},
   "source": [
    "# Load required modules and the MNIST dataset"
   ]
  },
  {
   "cell_type": "code",
   "execution_count": 1,
   "metadata": {},
   "outputs": [
    {
     "name": "stderr",
     "output_type": "stream",
     "text": [
      "Using TensorFlow backend.\n"
     ]
    },
    {
     "name": "stdout",
     "output_type": "stream",
     "text": [
      "Samples: 60000\n"
     ]
    }
   ],
   "source": [
    "import tensorflow as tf\n",
    "import numpy as np\n",
    "from sklearn.utils import shuffle\n",
    "from sklearn.mixture import BayesianGaussianMixture\n",
    "from matplotlib import pyplot as plt\n",
    "from keras.datasets import mnist\n",
    "\n",
    "# downloads the dataset if needed\n",
    "dataset = mnist.load_data()\n",
    "(X, Y), _ = dataset\n",
    "\n",
    "X = np.reshape(X, (X.shape[0], np.prod(X.shape[1:])))\n",
    "\n",
    "print(\"Samples:\", X.shape[0])"
   ]
  },
  {
   "cell_type": "markdown",
   "metadata": {},
   "source": [
    "# Defining a Bayes Classifier using Gaussian Mixture Model"
   ]
  },
  {
   "cell_type": "code",
   "execution_count": 2,
   "metadata": {},
   "outputs": [],
   "source": [
    "class BayesClassifier():    \n",
    "    def fit(self, X, Y):\n",
    "        # number of different classes\n",
    "        self.K = len(set(Y))\n",
    "        \n",
    "        # list of gaussians - one for each class\n",
    "        self.gaussians = []\n",
    "        \n",
    "        for k in range(self.K):\n",
    "            Xk = X[Y==k]\n",
    "            gmm = BayesianGaussianMixture(20)\n",
    "            gmm.fit(Xk)\n",
    "            self.gaussians.append(gmm)\n",
    "            \n",
    "    def sample_given_y(self, y):\n",
    "        gmm = self.gaussians[y]\n",
    "        return gmm.sample()[0]\n",
    "            \n",
    "        \n",
    "        \n",
    "        "
   ]
  },
  {
   "cell_type": "markdown",
   "metadata": {},
   "source": [
    "# Runs the code"
   ]
  },
  {
   "cell_type": "code",
   "execution_count": null,
   "metadata": {
    "scrolled": false
   },
   "outputs": [],
   "source": [
    "classifier = BayesClassifier()\n",
    "classifier.fit(X, Y)\n",
    "\n",
    "for i in range(10):\n",
    "    plt.subplot(1,2,1)\n",
    "    plt.imshow(classifier.sample_given_y(i).reshape((28,28)))\n",
    "    plt.show()\n"
   ]
  },
  {
   "cell_type": "code",
   "execution_count": null,
   "metadata": {},
   "outputs": [],
   "source": []
  }
 ],
 "metadata": {
  "kernelspec": {
   "display_name": "Python 3",
   "language": "python",
   "name": "python3"
  },
  "language_info": {
   "codemirror_mode": {
    "name": "ipython",
    "version": 3
   },
   "file_extension": ".py",
   "mimetype": "text/x-python",
   "name": "python",
   "nbconvert_exporter": "python",
   "pygments_lexer": "ipython3",
   "version": "3.6.8"
  }
 },
 "nbformat": 4,
 "nbformat_minor": 2
}
